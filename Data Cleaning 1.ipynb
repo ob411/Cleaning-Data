{
 "cells": [
  {
   "cell_type": "code",
   "execution_count": 62,
   "id": "2ebf94ad",
   "metadata": {},
   "outputs": [],
   "source": [
    "import pandas as pd"
   ]
  },
  {
   "cell_type": "markdown",
   "id": "56d21b09",
   "metadata": {},
   "source": [
    "### Loading the file into application"
   ]
  },
  {
   "cell_type": "code",
   "execution_count": 63,
   "id": "a98deed4",
   "metadata": {},
   "outputs": [],
   "source": [
    "agg_df= pd.read_csv('aggreko.csv')"
   ]
  },
  {
   "cell_type": "markdown",
   "id": "b7c828e5",
   "metadata": {},
   "source": [
    "### Checking the content of the file"
   ]
  },
  {
   "cell_type": "code",
   "execution_count": 64,
   "id": "7f3573bf",
   "metadata": {
    "scrolled": true
   },
   "outputs": [
    {
     "data": {
      "text/html": [
       "<div>\n",
       "<style scoped>\n",
       "    .dataframe tbody tr th:only-of-type {\n",
       "        vertical-align: middle;\n",
       "    }\n",
       "\n",
       "    .dataframe tbody tr th {\n",
       "        vertical-align: top;\n",
       "    }\n",
       "\n",
       "    .dataframe thead th {\n",
       "        text-align: right;\n",
       "    }\n",
       "</style>\n",
       "<table border=\"1\" class=\"dataframe\">\n",
       "  <thead>\n",
       "    <tr style=\"text-align: right;\">\n",
       "      <th></th>\n",
       "      <th>re</th>\n",
       "      <th>le</th>\n",
       "      <th>be</th>\n",
       "    </tr>\n",
       "  </thead>\n",
       "  <tbody>\n",
       "    <tr>\n",
       "      <th>0</th>\n",
       "      <td>Normal</td>\n",
       "      <td>Normal</td>\n",
       "      <td>NaN</td>\n",
       "    </tr>\n",
       "    <tr>\n",
       "      <th>1</th>\n",
       "      <td>Normal</td>\n",
       "      <td>Normal</td>\n",
       "      <td>NaN</td>\n",
       "    </tr>\n",
       "    <tr>\n",
       "      <th>2</th>\n",
       "      <td>NaN</td>\n",
       "      <td>NaN</td>\n",
       "      <td>NaN</td>\n",
       "    </tr>\n",
       "    <tr>\n",
       "      <th>3</th>\n",
       "      <td>Normal</td>\n",
       "      <td>Mild Hearing Loss</td>\n",
       "      <td>NaN</td>\n",
       "    </tr>\n",
       "    <tr>\n",
       "      <th>4</th>\n",
       "      <td>Normal</td>\n",
       "      <td>Normal</td>\n",
       "      <td>NaN</td>\n",
       "    </tr>\n",
       "  </tbody>\n",
       "</table>\n",
       "</div>"
      ],
      "text/plain": [
       "       re                 le  be\n",
       "0  Normal             Normal NaN\n",
       "1  Normal             Normal NaN\n",
       "2     NaN                NaN NaN\n",
       "3  Normal  Mild Hearing Loss NaN\n",
       "4  Normal             Normal NaN"
      ]
     },
     "execution_count": 64,
     "metadata": {},
     "output_type": "execute_result"
    }
   ],
   "source": [
    "agg_df.head()"
   ]
  },
  {
   "cell_type": "markdown",
   "id": "b3cf9785",
   "metadata": {},
   "source": [
    "### Viewing the columns"
   ]
  },
  {
   "cell_type": "code",
   "execution_count": 65,
   "id": "7e750c80",
   "metadata": {},
   "outputs": [
    {
     "data": {
      "text/plain": [
       "Index(['re', 'le', 'be'], dtype='object')"
      ]
     },
     "execution_count": 65,
     "metadata": {},
     "output_type": "execute_result"
    }
   ],
   "source": [
    "agg_df.columns"
   ]
  },
  {
   "cell_type": "markdown",
   "id": "b6028ce2",
   "metadata": {},
   "source": [
    "### Checking a few statistics"
   ]
  },
  {
   "cell_type": "code",
   "execution_count": 66,
   "id": "eeac8c17",
   "metadata": {},
   "outputs": [
    {
     "data": {
      "text/plain": [
       "Normal                   33\n",
       "Mild Hearing Loss        22\n",
       "Moderate Hearing Loss     2\n",
       "Name: le, dtype: int64"
      ]
     },
     "execution_count": 66,
     "metadata": {},
     "output_type": "execute_result"
    }
   ],
   "source": [
    "agg_df['le'].value_counts()"
   ]
  },
  {
   "cell_type": "code",
   "execution_count": 67,
   "id": "64916718",
   "metadata": {},
   "outputs": [
    {
     "data": {
      "text/plain": [
       "Normal                   46\n",
       "Mild Hearing Loss         5\n",
       "Severe Hearing Loss       4\n",
       "Moderate Hearing Loss     2\n",
       "Name: re, dtype: int64"
      ]
     },
     "execution_count": 67,
     "metadata": {},
     "output_type": "execute_result"
    }
   ],
   "source": [
    "agg_df.re.value_counts()"
   ]
  },
  {
   "cell_type": "code",
   "execution_count": 68,
   "id": "270103c1",
   "metadata": {},
   "outputs": [
    {
     "data": {
      "text/plain": [
       "re    57\n",
       "le    57\n",
       "be     0\n",
       "dtype: int64"
      ]
     },
     "execution_count": 68,
     "metadata": {},
     "output_type": "execute_result"
    }
   ],
   "source": [
    "agg_df.count()"
   ]
  },
  {
   "cell_type": "markdown",
   "id": "aec23f87",
   "metadata": {},
   "source": [
    "### Shortening the values of all columns to allow for shorter codes to improve readability"
   ]
  },
  {
   "cell_type": "code",
   "execution_count": 69,
   "id": "a24b7f14",
   "metadata": {},
   "outputs": [],
   "source": [
    "for col in agg_df.columns:\n",
    "    agg_df[col]= agg_df[col].apply(lambda x:'Nrm' if x== 'Normal'\\\n",
    "                                    else 'Mld' if x== 'Mild Hearing Loss'\\\n",
    "                                    else 'Sev' if x== 'Severe Hearing Loss'\\\n",
    "                                    else 'Mod' if x== 'Moderate Hearing Loss'\\\n",
    "                                    else x)\n",
    "                                    "
   ]
  },
  {
   "cell_type": "markdown",
   "id": "5148f9ce",
   "metadata": {},
   "source": [
    "### Checking the dataset to ensure changes are effected"
   ]
  },
  {
   "cell_type": "code",
   "execution_count": 70,
   "id": "03c35ca2",
   "metadata": {},
   "outputs": [
    {
     "data": {
      "text/html": [
       "<div>\n",
       "<style scoped>\n",
       "    .dataframe tbody tr th:only-of-type {\n",
       "        vertical-align: middle;\n",
       "    }\n",
       "\n",
       "    .dataframe tbody tr th {\n",
       "        vertical-align: top;\n",
       "    }\n",
       "\n",
       "    .dataframe thead th {\n",
       "        text-align: right;\n",
       "    }\n",
       "</style>\n",
       "<table border=\"1\" class=\"dataframe\">\n",
       "  <thead>\n",
       "    <tr style=\"text-align: right;\">\n",
       "      <th></th>\n",
       "      <th>re</th>\n",
       "      <th>le</th>\n",
       "      <th>be</th>\n",
       "    </tr>\n",
       "  </thead>\n",
       "  <tbody>\n",
       "    <tr>\n",
       "      <th>0</th>\n",
       "      <td>Nrm</td>\n",
       "      <td>Nrm</td>\n",
       "      <td>NaN</td>\n",
       "    </tr>\n",
       "    <tr>\n",
       "      <th>1</th>\n",
       "      <td>Nrm</td>\n",
       "      <td>Nrm</td>\n",
       "      <td>NaN</td>\n",
       "    </tr>\n",
       "    <tr>\n",
       "      <th>2</th>\n",
       "      <td>NaN</td>\n",
       "      <td>NaN</td>\n",
       "      <td>NaN</td>\n",
       "    </tr>\n",
       "    <tr>\n",
       "      <th>3</th>\n",
       "      <td>Nrm</td>\n",
       "      <td>Mld</td>\n",
       "      <td>NaN</td>\n",
       "    </tr>\n",
       "    <tr>\n",
       "      <th>4</th>\n",
       "      <td>Nrm</td>\n",
       "      <td>Nrm</td>\n",
       "      <td>NaN</td>\n",
       "    </tr>\n",
       "    <tr>\n",
       "      <th>5</th>\n",
       "      <td>Nrm</td>\n",
       "      <td>Nrm</td>\n",
       "      <td>NaN</td>\n",
       "    </tr>\n",
       "    <tr>\n",
       "      <th>6</th>\n",
       "      <td>Nrm</td>\n",
       "      <td>Nrm</td>\n",
       "      <td>NaN</td>\n",
       "    </tr>\n",
       "    <tr>\n",
       "      <th>7</th>\n",
       "      <td>Nrm</td>\n",
       "      <td>Mld</td>\n",
       "      <td>NaN</td>\n",
       "    </tr>\n",
       "    <tr>\n",
       "      <th>8</th>\n",
       "      <td>Nrm</td>\n",
       "      <td>Nrm</td>\n",
       "      <td>NaN</td>\n",
       "    </tr>\n",
       "    <tr>\n",
       "      <th>9</th>\n",
       "      <td>Nrm</td>\n",
       "      <td>Nrm</td>\n",
       "      <td>NaN</td>\n",
       "    </tr>\n",
       "  </tbody>\n",
       "</table>\n",
       "</div>"
      ],
      "text/plain": [
       "    re   le  be\n",
       "0  Nrm  Nrm NaN\n",
       "1  Nrm  Nrm NaN\n",
       "2  NaN  NaN NaN\n",
       "3  Nrm  Mld NaN\n",
       "4  Nrm  Nrm NaN\n",
       "5  Nrm  Nrm NaN\n",
       "6  Nrm  Nrm NaN\n",
       "7  Nrm  Mld NaN\n",
       "8  Nrm  Nrm NaN\n",
       "9  Nrm  Nrm NaN"
      ]
     },
     "execution_count": 70,
     "metadata": {},
     "output_type": "execute_result"
    }
   ],
   "source": [
    "agg_df.head(10)"
   ]
  },
  {
   "cell_type": "markdown",
   "id": "dc0b58b8",
   "metadata": {},
   "source": [
    "### Populating the 'be' column based on the value in 're' and 'le' columns"
   ]
  },
  {
   "cell_type": "code",
   "execution_count": 88,
   "id": "d1465456",
   "metadata": {},
   "outputs": [
    {
     "name": "stderr",
     "output_type": "stream",
     "text": [
      "C:\\Users\\Stephen Odutola\\AppData\\Local\\Temp\\ipykernel_14000\\708000932.py:3: SettingWithCopyWarning: \n",
      "A value is trying to be set on a copy of a slice from a DataFrame\n",
      "\n",
      "See the caveats in the documentation: https://pandas.pydata.org/pandas-docs/stable/user_guide/indexing.html#returning-a-view-versus-a-copy\n",
      "  agg_df['be'][z]= 'Normal'\n"
     ]
    }
   ],
   "source": [
    "for z in range(57):\n",
    "    if agg_df['re'][z]== agg_df['le'][z]== 'Nrm':\n",
    "        agg_df['be'][z]= 'Normal'\n",
    "    elif agg_df['re'][z]== agg_df['le'][z]== 'Mld':\n",
    "        agg_df['be'][z]= 'Mild'\n",
    "    elif agg_df['re'][z]== agg_df['le'][z]== 'Mod':\n",
    "        agg_df['be'][z]= 'Morderate'\n",
    "    elif agg_df['re'][z]== agg_df['le'][z]== 'Sev':\n",
    "        agg_df['be'][z]= 'Severe'\n",
    "    else:\n",
    "        agg_df['be'][z]= 'Other'"
   ]
  },
  {
   "cell_type": "markdown",
   "id": "d9abccd2",
   "metadata": {},
   "source": [
    "### Examining the dataset to confirm the 'be' column is correctly populated."
   ]
  },
  {
   "cell_type": "code",
   "execution_count": 90,
   "id": "07fa2a8d",
   "metadata": {},
   "outputs": [
    {
     "data": {
      "text/html": [
       "<div>\n",
       "<style scoped>\n",
       "    .dataframe tbody tr th:only-of-type {\n",
       "        vertical-align: middle;\n",
       "    }\n",
       "\n",
       "    .dataframe tbody tr th {\n",
       "        vertical-align: top;\n",
       "    }\n",
       "\n",
       "    .dataframe thead th {\n",
       "        text-align: right;\n",
       "    }\n",
       "</style>\n",
       "<table border=\"1\" class=\"dataframe\">\n",
       "  <thead>\n",
       "    <tr style=\"text-align: right;\">\n",
       "      <th></th>\n",
       "      <th>re</th>\n",
       "      <th>le</th>\n",
       "      <th>be</th>\n",
       "    </tr>\n",
       "  </thead>\n",
       "  <tbody>\n",
       "    <tr>\n",
       "      <th>0</th>\n",
       "      <td>Nrm</td>\n",
       "      <td>Nrm</td>\n",
       "      <td>Normal</td>\n",
       "    </tr>\n",
       "    <tr>\n",
       "      <th>1</th>\n",
       "      <td>Nrm</td>\n",
       "      <td>Nrm</td>\n",
       "      <td>Normal</td>\n",
       "    </tr>\n",
       "    <tr>\n",
       "      <th>2</th>\n",
       "      <td>NaN</td>\n",
       "      <td>NaN</td>\n",
       "      <td>Other</td>\n",
       "    </tr>\n",
       "    <tr>\n",
       "      <th>3</th>\n",
       "      <td>Nrm</td>\n",
       "      <td>Mld</td>\n",
       "      <td>Other</td>\n",
       "    </tr>\n",
       "    <tr>\n",
       "      <th>4</th>\n",
       "      <td>Nrm</td>\n",
       "      <td>Nrm</td>\n",
       "      <td>Normal</td>\n",
       "    </tr>\n",
       "    <tr>\n",
       "      <th>5</th>\n",
       "      <td>Nrm</td>\n",
       "      <td>Nrm</td>\n",
       "      <td>Normal</td>\n",
       "    </tr>\n",
       "    <tr>\n",
       "      <th>6</th>\n",
       "      <td>Nrm</td>\n",
       "      <td>Nrm</td>\n",
       "      <td>Normal</td>\n",
       "    </tr>\n",
       "    <tr>\n",
       "      <th>7</th>\n",
       "      <td>Nrm</td>\n",
       "      <td>Mld</td>\n",
       "      <td>Other</td>\n",
       "    </tr>\n",
       "    <tr>\n",
       "      <th>8</th>\n",
       "      <td>Nrm</td>\n",
       "      <td>Nrm</td>\n",
       "      <td>Normal</td>\n",
       "    </tr>\n",
       "    <tr>\n",
       "      <th>9</th>\n",
       "      <td>Nrm</td>\n",
       "      <td>Nrm</td>\n",
       "      <td>Normal</td>\n",
       "    </tr>\n",
       "  </tbody>\n",
       "</table>\n",
       "</div>"
      ],
      "text/plain": [
       "    re   le      be\n",
       "0  Nrm  Nrm  Normal\n",
       "1  Nrm  Nrm  Normal\n",
       "2  NaN  NaN   Other\n",
       "3  Nrm  Mld   Other\n",
       "4  Nrm  Nrm  Normal\n",
       "5  Nrm  Nrm  Normal\n",
       "6  Nrm  Nrm  Normal\n",
       "7  Nrm  Mld   Other\n",
       "8  Nrm  Nrm  Normal\n",
       "9  Nrm  Nrm  Normal"
      ]
     },
     "execution_count": 90,
     "metadata": {},
     "output_type": "execute_result"
    }
   ],
   "source": [
    "agg_df.head(10)"
   ]
  },
  {
   "cell_type": "markdown",
   "id": "c6217fe7",
   "metadata": {},
   "source": [
    "### Checking the value distribution of the 'be' column"
   ]
  },
  {
   "cell_type": "code",
   "execution_count": 91,
   "id": "55077d15",
   "metadata": {},
   "outputs": [
    {
     "data": {
      "text/plain": [
       "Normal    30\n",
       "Other     23\n",
       "Mild       4\n",
       "Name: be, dtype: int64"
      ]
     },
     "execution_count": 91,
     "metadata": {},
     "output_type": "execute_result"
    }
   ],
   "source": [
    "agg_df.be.value_counts()"
   ]
  },
  {
   "cell_type": "markdown",
   "id": "d27a1c14",
   "metadata": {},
   "source": [
    "# END"
   ]
  }
 ],
 "metadata": {
  "kernelspec": {
   "display_name": "Python 3 (ipykernel)",
   "language": "python",
   "name": "python3"
  },
  "language_info": {
   "codemirror_mode": {
    "name": "ipython",
    "version": 3
   },
   "file_extension": ".py",
   "mimetype": "text/x-python",
   "name": "python",
   "nbconvert_exporter": "python",
   "pygments_lexer": "ipython3",
   "version": "3.10.9"
  }
 },
 "nbformat": 4,
 "nbformat_minor": 5
}
